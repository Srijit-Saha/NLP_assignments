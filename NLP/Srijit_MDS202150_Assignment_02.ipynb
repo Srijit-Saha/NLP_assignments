{
  "cells": [
    {
      "cell_type": "code",
      "execution_count": null,
      "metadata": {
        "colab": {
          "base_uri": "https://localhost:8080/"
        },
        "id": "o-P-7NmLCRPb",
        "outputId": "bf41bdc3-94a9-4e3c-ddc7-a94476f3d250"
      },
      "outputs": [
        {
          "output_type": "stream",
          "name": "stdout",
          "text": [
            "Drive already mounted at /content/drive; to attempt to forcibly remount, call drive.mount(\"/content/drive\", force_remount=True).\n"
          ]
        },
        {
          "output_type": "stream",
          "name": "stderr",
          "text": [
            "[nltk_data] Downloading package punkt to /root/nltk_data...\n",
            "[nltk_data]   Unzipping tokenizers/punkt.zip.\n",
            "[nltk_data] Downloading package wordnet to /root/nltk_data...\n",
            "[nltk_data] Downloading package omw-1.4 to /root/nltk_data...\n",
            "[nltk_data] Downloading package stopwords to /root/nltk_data...\n",
            "[nltk_data]   Unzipping corpora/stopwords.zip.\n"
          ]
        }
      ],
      "source": [
        "# Importing packages\n",
        "from google.colab import drive\n",
        "drive.mount('/content/drive')\n",
        "import numpy as np\n",
        "import nltk\n",
        "import pandas as pd\n",
        "from collections import Counter\n",
        "from tqdm.auto import tqdm\n",
        "import re, time, json,pickle\n",
        "from nltk.stem import WordNetLemmatizer\n",
        "from nltk.corpus import stopwords\n",
        "from nltk.tokenize import sent_tokenize\n",
        "from nltk import ngrams\n",
        "import matplotlib.pyplot as plt\n",
        "import matplotlib.colors as mcolors\n",
        "nltk.download('punkt')\n",
        "nltk.download('wordnet')\n",
        "nltk.download('omw-1.4')\n",
        "nltk.download('stopwords')\n",
        "path = \"drive/MyDrive/NLP/\"\n",
        "\n"
      ]
    },
    {
      "cell_type": "code",
      "execution_count": null,
      "metadata": {
        "colab": {
          "base_uri": "https://localhost:8080/"
        },
        "id": "vvRn1UynCE2q",
        "outputId": "56176c99-ad44-4a2c-b755-dff2795afe1e"
      },
      "outputs": [
        {
          "name": "stdout",
          "output_type": "stream",
          "text": [
            "CPU times: user 968 ms, sys: 677 ms, total: 1.65 s\n",
            "Wall time: 8.78 s\n"
          ]
        }
      ],
      "source": [
        "# load saved corpus from Google Drive\n",
        "%%time\n",
        "path = r\"drive/MyDrive/NLP/corpus_final.txt\"\n",
        "st = \"\"\n",
        "with open(path, 'r') as f:\n",
        "  st = f.readlines()"
      ]
    },
    {
      "cell_type": "code",
      "execution_count": null,
      "metadata": {
        "id": "VfO1jGpNw0QF"
      },
      "outputs": [],
      "source": [
        "#Text preprocessing\n",
        "\n",
        "stemmer = WordNetLemmatizer()\n",
        "\n",
        "def preprocess_text(document):\n",
        "        stop_words = set(stopwords.words('english'))\n",
        "        en_stop = list(stop_words)\n",
        "        # Remove all the special characters\n",
        "        document = re.sub(r'\\W', ' ', str(document))\n",
        "\n",
        "        # remove all single characters\n",
        "        document = re.sub(r'\\s+[a-zA-Z]\\s+', ' ', document)\n",
        "\n",
        "        # Remove single characters from the start\n",
        "        document = re.sub(r'\\^[a-zA-Z]\\s+', ' ', document)\n",
        "\n",
        "        # Substituting multiple spaces with single space\n",
        "        document = re.sub(r'\\s+', ' ', document, flags=re.I)\n",
        "\n",
        "        # Removing prefixed 'b'\n",
        "        document = re.sub(r'^b\\s+', '', document)\n",
        "\n",
        "        # Converting to Lowercase\n",
        "        document = document.lower()\n",
        "        tokens = document.split()\n",
        "        tokens = [stemmer.lemmatize(word) for word in tokens]\n",
        "        tokens = [word for word in tokens if word not in en_stop]\n",
        "        tokens = [word for word in tokens if len(word) > 3]\n",
        "\n",
        "        preprocessed_text = ' '.join(tokens)\n",
        "\n",
        "        return preprocessed_text\n"
      ]
    },
    {
      "cell_type": "code",
      "execution_count": null,
      "metadata": {
        "id": "4gSTjuA9jkEX"
      },
      "outputs": [],
      "source": [
        "pre_corp = []\n",
        "for t in tqdm(range(len(st))):\n",
        "  txt = preprocess_text(str(st[t]))\n",
        "  pre_corp.append(txt)"
      ]
    },
    {
      "cell_type": "code",
      "execution_count": null,
      "metadata": {
        "id": "QUuolhvHoKPH"
      },
      "outputs": [],
      "source": [
        "with open(\"drive/MyDrive/NLP/preprocessed_covid.txt\", 'w') as output:\n",
        "    for row in pre_corp:\n",
        "        output.write(str(row) + '\\n')"
      ]
    },
    {
      "cell_type": "code",
      "execution_count": null,
      "metadata": {
        "colab": {
          "base_uri": "https://localhost:8080/"
        },
        "id": "tZNVKPP2un9G",
        "outputId": "f3548eb3-3f88-4b12-a852-060775b536ae"
      },
      "outputs": [
        {
          "name": "stdout",
          "output_type": "stream",
          "text": [
            "CPU times: user 488 ms, sys: 383 ms, total: 870 ms\n",
            "Wall time: 4.08 s\n"
          ]
        }
      ],
      "source": [
        "%%time\n",
        "path = \"drive/MyDrive/NLP/\"\n",
        "file_name = \"preprocessed_covid.txt\"\n",
        "with open(path + file_name, 'r') as c:\n",
        "  pre_corp = c.readlines()\n"
      ]
    },
    {
      "cell_type": "code",
      "execution_count": null,
      "metadata": {
        "id": "rixA_8PCDdDp"
      },
      "outputs": [],
      "source": [
        "all_corp = []\n",
        "vocab_dict = Counter()\n",
        "START_TOKEN = \"<Pad_strt> \"\n",
        "END_TOKEN = \" <Pad_end>\"\n",
        "for t in tqdm(range(len(st))):\n",
        "  txt = preprocess_text(str(st[t]))\n",
        "  sen = sent_tokenize(txt)\n",
        "  pad_text = [START_TOKEN + t.lower() + END_TOKEN for t in sen]\n",
        "  pd = \" \".join(pad_text)\n",
        "  vocab_dict.update(pd.split())\n"
      ]
    },
    {
      "cell_type": "code",
      "execution_count": null,
      "metadata": {
        "id": "mrKgwqA0WPjw"
      },
      "outputs": [],
      "source": [
        "with open(\"/content/drive/MyDrive/NLP/vocab_full.json\", \"w\") as outfile:\n",
        "    json.dump(vocab_dict, outfile)"
      ]
    },
    {
      "cell_type": "code",
      "execution_count": null,
      "metadata": {
        "id": "QFPCToRxKgiX"
      },
      "outputs": [],
      "source": [
        "f = open(\"/content/drive/MyDrive/NLP/vocab_full.json\",\"r\")\n",
        "vocab_freq = json.load(f)"
      ]
    },
    {
      "cell_type": "code",
      "execution_count": null,
      "metadata": {
        "colab": {
          "base_uri": "https://localhost:8080/"
        },
        "id": "Cz6097olLE3p",
        "outputId": "bfd5cc7f-8a8e-47b0-aba4-1c7955b4a844"
      },
      "outputs": [
        {
          "output_type": "stream",
          "name": "stdout",
          "text": [
            "Vocab Length: \n"
          ]
        },
        {
          "output_type": "execute_result",
          "data": {
            "text/plain": [
              "15213"
            ]
          },
          "metadata": {},
          "execution_count": 47
        }
      ],
      "source": [
        "def my_filtering_function(pair):\n",
        "    key, value = pair\n",
        "    if value >= 150:\n",
        "        return True  # keep pair in the filtered dictionary\n",
        "    else:\n",
        "        return False  # filter pair out of the dictionary\n",
        "vocab_filter = dict(filter(my_filtering_function, vocab_freq.items()))\n",
        "print(\"Vocab Length: \")\n",
        "len(vocab_filter.keys())\n"
      ]
    },
    {
      "cell_type": "code",
      "execution_count": null,
      "metadata": {
        "colab": {
          "base_uri": "https://localhost:8080/",
          "height": 49,
          "referenced_widgets": [
            "71ebbb3e2ed24779b13eee8bdc085633",
            "8953b8a4393e4bf29e721af752e55a65",
            "777bb513295c415bab646696340faa8a",
            "acc1c51b91ea4a65b027be97d1dafc0e",
            "6aa63cb3b7a24320b3a8fedb2f239052",
            "4c4e770b711b42948396baf01be0be29",
            "16b2348214c5439fafcdfa6028cfea75",
            "67e844b8aef1401a831b281bf766c5f2",
            "81b8186e90fa4c32b3d7cde34c99f714",
            "4c30f391628a4518bc9ec0e611a16beb",
            "417be8240e894f6098835d6abe916478"
          ]
        },
        "id": "edEzreRLVjNL",
        "outputId": "c5d9a688-e484-4dc6-ac81-a30023644985"
      },
      "outputs": [
        {
          "data": {
            "application/vnd.jupyter.widget-view+json": {
              "model_id": "71ebbb3e2ed24779b13eee8bdc085633",
              "version_major": 2,
              "version_minor": 0
            },
            "text/plain": [
              "  0%|          | 0/39999 [00:00<?, ?it/s]"
            ]
          },
          "metadata": {},
          "output_type": "display_data"
        }
      ],
      "source": [
        "ind_voc = dict(enumerate(list(vocab_filter.keys())))\n",
        "vocab_idx = {v: k for k, v in ind_voc.items()}\n",
        "word_lst = list(vocab_filter.keys())\n",
        "v = len(vocab_filter.keys())\n",
        "hal_l2r = np.zeros((v,v))\n",
        "hal_r2l = np.zeros((v,v))\n",
        "ramp = [0, 10, 9, 8, 7, 6, 5, 4, 3, 2, 1]\n",
        "for s in tqdm(pre_corp):\n",
        "  wrd = s.split()\n",
        "  wrds = [w.lower() for w in wrd]\n",
        "  n_grams = ngrams(wrds, 11, pad_right = True, pad_left= True)\n",
        "  for w in wrds:\n",
        "    if w in vocab_filter.keys():\n",
        "      for index, grams in enumerate(n_grams):\n",
        "        reversed_grams = grams[::-1]\n",
        "        if not None in grams:\n",
        "          #  Left to right\n",
        "          for idx, gram in enumerate(grams):\n",
        "            try:\n",
        "              hal_l2r[vocab_idx[grams[0]],vocab_idx[grams[idx]]] += ramp[idx]\n",
        "            except:\n",
        "              pass\n",
        "          # right to left\n",
        "          for idx, gram in enumerate(reversed_grams):\n",
        "            try:\n",
        "              hal_r2l[vocab_idx[reversed_grams[0]],vocab_idx[reversed_grams[idx]]] += ramp[idx]\n",
        "            except:\n",
        "              pass\n",
        "\n",
        "\n"
      ]
    },
    {
      "cell_type": "code",
      "execution_count": null,
      "metadata": {
        "id": "xKPawoMKccqB"
      },
      "outputs": [],
      "source": [
        "import pickle\n",
        "with open(path + \"L2R\", \"wb\") as out:   #Pickling\n",
        "  pickle.dump(hal_l2r, out)\n",
        "with open(path + \"R2L\", \"wb\") as out2:   #Pickling\n",
        "  pickle.dump(hal_r2l, out2)"
      ]
    },
    {
      "cell_type": "markdown",
      "metadata": {
        "id": "F-TS5ohWqPW6"
      },
      "source": [
        "**Checkpoint 1 : In case of ram crash run from here.**"
      ]
    },
    {
      "cell_type": "code",
      "execution_count": null,
      "metadata": {
        "id": "LiDnD03YoUiz"
      },
      "outputs": [],
      "source": [
        "path = \"drive/MyDrive/NLP/\"\n",
        "with open(path + \"L2R\", 'rb') as pickle_file:\n",
        "    hal_l2r = pickle.load(pickle_file)\n",
        "with open(path + \"R2L\", 'rb') as pickled_file:\n",
        "    hal_r2l = pickle.load(pickled_file)\n",
        "assert(hal_l2r.shape == hal_r2l.shape)"
      ]
    },
    {
      "cell_type": "code",
      "execution_count": null,
      "metadata": {
        "id": "FW6vU1EHe5pn"
      },
      "outputs": [],
      "source": [
        "# Dealing with Null rows (all values in the row are zero) and normalising the matrix\n",
        "hal_l2r = hal_l2r[~np.all(hal_l2r == 0, axis=1)]\n",
        "la = np.linalg\n",
        "hal_l2r = [row/la.norm(row) for row in hal_l2r]\n",
        "hal_r2l = hal_r2l[~np.all(hal_r2l == 0, axis=1)]\n",
        "la = np.linalg\n",
        "hal_r2l = [row/la.norm(row) for row in hal_r2l]"
      ]
    },
    {
      "cell_type": "code",
      "execution_count": null,
      "metadata": {
        "id": "kbkgLhg2ZbnR"
      },
      "outputs": [],
      "source": [
        "halmat = np.concatenate((hal_l2r, hal_r2l), axis = 1)\n",
        "with open(path + \"halmat\", 'wb') as pickle_file:\n",
        "    pickle.dump(halmat,pickle_file)"
      ]
    },
    {
      "cell_type": "code",
      "execution_count": null,
      "metadata": {
        "id": "GlUcHcz-jNRS"
      },
      "outputs": [],
      "source": [
        "with open(path + \"halmat\", 'rb') as pickle_file:\n",
        "    halmat = pickle.load(pickle_file)"
      ]
    },
    {
      "cell_type": "code",
      "execution_count": null,
      "metadata": {
        "id": "KxoN_kO7ohYB"
      },
      "outputs": [],
      "source": [
        "#using principal component analysis to get the word vectors\n",
        "from sklearn.decomposition import PCA\n",
        "pca = PCA(n_components = 2)\n",
        "word_vecs = pca.fit_transform(halmat)\n",
        "word_vecs.shape\n",
        "with open(path + \"word_vec\", 'wb') as pickled:\n",
        "    pickle.dump(word_vecs,pickled)"
      ]
    },
    {
      "cell_type": "markdown",
      "metadata": {
        "id": "EEvhUJ29uwIo"
      },
      "source": [
        "**Checkpoint 2: Work with saved data**"
      ]
    },
    {
      "cell_type": "code",
      "execution_count": null,
      "metadata": {
        "id": "N5qo2RWWqEOq"
      },
      "outputs": [],
      "source": [
        "with open(path + \"word_vec\", 'rb') as pickled:\n",
        "    word_vecs = pickle.load(pickled)"
      ]
    },
    {
      "cell_type": "code",
      "execution_count": null,
      "metadata": {
        "id": "6fmIyNCp6KjS"
      },
      "outputs": [],
      "source": [
        "# Defining a minkowski metric to compute similarity between two word vectors\n",
        "import math\n",
        "def minkowski(v1, v2):\n",
        "  assert len(v1) == len(v2)\n",
        "  s = 0.0\n",
        "  for i in range(len(v1)):\n",
        "    s+=(float(abs(v1[i] - v2[i])**2))\n",
        "  return math.sqrt(s)\n"
      ]
    },
    {
      "cell_type": "code",
      "execution_count": null,
      "metadata": {
        "id": "YFUucNJOuX8D"
      },
      "outputs": [],
      "source": [
        "# dictionary slicing\n",
        "from itertools import islice\n",
        "def take(iterable, n = 50):\n",
        "    return dict(islice(iterable, n))"
      ]
    },
    {
      "cell_type": "code",
      "execution_count": null,
      "metadata": {
        "colab": {
          "base_uri": "https://localhost:8080/",
          "height": 49,
          "referenced_widgets": [
            "78234bc3cad74a1facf3f73a97aee358",
            "423df7081ab54c9ea30e14a5280bcdfd",
            "7c5120619d6b42318d777d5016ccd593",
            "92274ba05540427d86c33ef5beb99861",
            "e940fd949ed74403a703915feb2165e9",
            "cf499712c22447939890d09bf8e6845f",
            "db230609627a44febc2dc8eafafa3fd3",
            "141db81359894d598b5a671b70ba9738",
            "13a99aaef4e14bff85aff31eb922bb94",
            "0941c855287d4026bac7ee3e1116978d",
            "a17fd41526e742d78db08c231cc4fc60"
          ]
        },
        "id": "HosgOf79BxSw",
        "outputId": "fc25ce8b-c402-4644-f257-4092c8b24c35"
      },
      "outputs": [
        {
          "output_type": "display_data",
          "data": {
            "text/plain": [
              "  0%|          | 0/15211 [00:00<?, ?it/s]"
            ],
            "application/vnd.jupyter.widget-view+json": {
              "version_major": 2,
              "version_minor": 0,
              "model_id": "78234bc3cad74a1facf3f73a97aee358"
            }
          },
          "metadata": {}
        }
      ],
      "source": [
        "allwrds = list(vocab_filter.keys())[:-2]\n",
        "ind_wrd = dict(enumerate(allwrds))\n",
        "word_similarity = {}\n",
        "word_dict = dict(zip(allwrds,word_vecs))\n",
        "for i in tqdm(word_dict.keys()):\n",
        "  metric = []\n",
        "  for j in word_dict.keys():\n",
        "    metric.append(minkowski(word_dict[i],word_dict[j]))\n",
        "  val = dict(sorted(dict(enumerate(metric)).items(), key = lambda x: x[1], reverse = True)).items()\n",
        "  word_similarity[i] = take(val)\n"
      ]
    },
    {
      "cell_type": "code",
      "execution_count": null,
      "metadata": {
        "colab": {
          "base_uri": "https://localhost:8080/"
        },
        "id": "KkrafYrCsAEj",
        "outputId": "709d9856-5264-4262-8ebe-e986b5ded045"
      },
      "outputs": [
        {
          "output_type": "execute_result",
          "data": {
            "text/plain": [
              "{9265: 1.2637435722956194,\n",
              " 2075: 1.2540693595757662,\n",
              " 9255: 1.2491870258557476,\n",
              " 9278: 1.2478923681638132,\n",
              " 2104: 1.2478660943536988,\n",
              " 9270: 1.247611741530383,\n",
              " 9245: 1.247608289215906,\n",
              " 2090: 1.2466638548351314,\n",
              " 11178: 1.2457573995712745,\n",
              " 9256: 1.2452812532562527,\n",
              " 2080: 1.244683197789298,\n",
              " 9280: 1.2445777817233181,\n",
              " 13239: 1.2433751920895066,\n",
              " 9284: 1.2431388771684038,\n",
              " 2085: 1.243093831019366,\n",
              " 9263: 1.2426424953468174,\n",
              " 9305: 1.2418617038627378,\n",
              " 11151: 1.2415032200942875,\n",
              " 13350: 1.241038678120617,\n",
              " 13199: 1.2407603059110455,\n",
              " 11171: 1.240466992658206,\n",
              " 2096: 1.2401525972124456,\n",
              " 2103: 1.239128144583515,\n",
              " 9272: 1.2384730033125604,\n",
              " 13202: 1.2382366243035083,\n",
              " 2081: 1.2377415646084509,\n",
              " 11147: 1.237476383237035,\n",
              " 9262: 1.2366824424727927,\n",
              " 2095: 1.236068987217852,\n",
              " 11206: 1.2360536159431446,\n",
              " 9246: 1.2358116243821882,\n",
              " 11154: 1.2349769448437766,\n",
              " 13228: 1.2343798340429402,\n",
              " 9264: 1.234336804057811,\n",
              " 9292: 1.2333324004683672,\n",
              " 11172: 1.2331717310050316,\n",
              " 11153: 1.233119385171078,\n",
              " 13274: 1.2329731718325292,\n",
              " 11191: 1.2329222798112958,\n",
              " 2083: 1.2328601479193748,\n",
              " 9249: 1.232647061078876,\n",
              " 9261: 1.2315291523146727,\n",
              " 11155: 1.2312827292564077,\n",
              " 9247: 1.2306383313961649,\n",
              " 13234: 1.2299710791713243,\n",
              " 9302: 1.2299219774313894,\n",
              " 13235: 1.229874332120641,\n",
              " 9274: 1.229814650492701,\n",
              " 11165: 1.2296503481506895,\n",
              " 9298: 1.2295754337117413}"
            ]
          },
          "metadata": {},
          "execution_count": 9
        }
      ],
      "source": [
        "word_similarity['hospital']"
      ]
    },
    {
      "cell_type": "markdown",
      "source": [
        "#Word Vector Plots"
      ],
      "metadata": {
        "id": "uY6I_qGM5mKA"
      }
    },
    {
      "cell_type": "code",
      "execution_count": null,
      "metadata": {
        "id": "Nds0gHMaQH0f"
      },
      "outputs": [],
      "source": [
        "#plotting function for displaying word vectors\n",
        "names = sorted(mcolors.CSS4_COLORS, key=lambda c: tuple(mcolors.rgb_to_hsv(mcolors.to_rgb(c))))\n",
        "plt.rcParams['figure.figsize'] = (12, 10)\n",
        "def plot_similar(text_word,size = 50, color = 46):\n",
        "  try:\n",
        "    fig, ax = plt.subplots()\n",
        "    rem = list(word_similarity[text_word].keys())[:size]\n",
        "    labels = [ind_wrd[ob] for ob in rem]\n",
        "    plotters = [word_dict[ind_wrd[ob]] for ob in rem]\n",
        "\n",
        "    for run in range(len(plotters)):\n",
        "      ax.scatter(plotters[run][0],plotters[run][1],label = labels[run], color = names[color], cmap = 'viridis', alpha = 0.79)\n",
        "    ax.legend()\n",
        "  except KeyError:\n",
        "    print(\"Sorry,this noun is'nt present in the corpus\")"
      ]
    },
    {
      "cell_type": "code",
      "execution_count": null,
      "metadata": {
        "id": "tAGVfOILTbVg",
        "colab": {
          "base_uri": "https://localhost:8080/",
          "height": 592
        },
        "outputId": "8bdbf668-0328-4013-9a96-306cdf8d3d23"
      },
      "outputs": [
        {
          "output_type": "display_data",
          "data": {
            "text/plain": [
              "<Figure size 864x720 with 1 Axes>"
            ],
            "image/png": "[encoded data removed]"
          },
          "metadata": {
            "needs_background": "light"
          }
        }
      ],
      "source": [
        "plot_similar(\"apple\", 20)"
      ]
    },
    {
      "cell_type": "code",
      "execution_count": null,
      "metadata": {
        "colab": {
          "base_uri": "https://localhost:8080/",
          "height": 592
        },
        "id": "SCJRdGqAWiSx",
        "outputId": "3a366739-e306-4e1a-9b40-b3057624471a"
      },
      "outputs": [
        {
          "output_type": "display_data",
          "data": {
            "text/plain": [
              "<Figure size 864x720 with 1 Axes>"
            ],
            "image/png": "[encoded data removed]"
          },
          "metadata": {
            "needs_background": "light"
          }
        }
      ],
      "source": [
        "plot_similar('covid', 20, 123)"
      ]
    },
    {
      "cell_type": "code",
      "execution_count": null,
      "metadata": {
        "colab": {
          "base_uri": "https://localhost:8080/",
          "height": 592
        },
        "id": "WsPzZMa_WiVO",
        "outputId": "c6371c32-267e-4b47-fd69-0334e046796f"
      },
      "outputs": [
        {
          "output_type": "display_data",
          "data": {
            "text/plain": [
              "<Figure size 864x720 with 1 Axes>"
            ],
            "image/png": "[encoded data removed]"
          },
          "metadata": {
            "needs_background": "light"
          }
        }
      ],
      "source": [
        "plot_similar(\"tumour\", 20, 23)"
      ]
    },
    {
      "cell_type": "code",
      "source": [
        "plot_similar(\"german\", 20,74)"
      ],
      "metadata": {
        "colab": {
          "base_uri": "https://localhost:8080/",
          "height": 592
        },
        "id": "xc2HJvsx4oHz",
        "outputId": "e888256f-d538-4127-f810-682ea771f911"
      },
      "execution_count": null,
      "outputs": [
        {
          "output_type": "display_data",
          "data": {
            "text/plain": [
              "<Figure size 864x720 with 1 Axes>"
            ],
            "image/png": "[encoded data removed]"
          },
          "metadata": {
            "needs_background": "light"
          }
        }
      ]
    },
    {
      "cell_type": "markdown",
      "source": [
        "#Table of common words"
      ],
      "metadata": {
        "id": "-3wTE6Oh5bVI"
      }
    },
    {
      "cell_type": "code",
      "execution_count": null,
      "metadata": {
        "id": "NN246S9gW7qa"
      },
      "outputs": [],
      "source": [
        "def make_table(nouns, width = 5):\n",
        "  word_table = {}\n",
        "  for noun in nouns:\n",
        "    rem1 = list(word_similarity[noun].keys())[:width]\n",
        "    word_table[noun] = [ind_wrd[item] for item in rem1]\n",
        "  table = pd.DataFrame(word_table)\n",
        "  return table"
      ]
    },
    {
      "cell_type": "code",
      "execution_count": null,
      "metadata": {
        "id": "jHtPLMEAlhXH",
        "colab": {
          "base_uri": "https://localhost:8080/",
          "height": 206
        },
        "outputId": "56aac7bc-a73d-44dc-f35c-f9e4206ad4fc"
      },
      "outputs": [
        {
          "output_type": "execute_result",
          "data": {
            "text/plain": [
              "         apple           covid      tumour    german\n",
              "0         part        restored  technology    dieser\n",
              "1        share       confluent       light      2009\n",
              "2   technology          tissue       share  klinisch\n",
              "3        light           hepg2        part     10000\n",
              "4  participate  haematological     grocery      teil"
            ],
            "text/html": [
              "\n",
              "  <div id=\"df-2f3ddfb6-15f2-4f28-9f52-fd0b63fb36b3\">\n",
              "    <div class=\"colab-df-container\">\n",
              "      <div>\n",
              "<style scoped>\n",
              "    .dataframe tbody tr th:only-of-type {\n",
              "        vertical-align: middle;\n",
              "    }\n",
              "\n",
              "    .dataframe tbody tr th {\n",
              "        vertical-align: top;\n",
              "    }\n",
              "\n",
              "    .dataframe thead th {\n",
              "        text-align: right;\n",
              "    }\n",
              "</style>\n",
              "<table border=\"1\" class=\"dataframe\">\n",
              "  <thead>\n",
              "    <tr style=\"text-align: right;\">\n",
              "      <th></th>\n",
              "      <th>apple</th>\n",
              "      <th>covid</th>\n",
              "      <th>tumour</th>\n",
              "      <th>german</th>\n",
              "    </tr>\n",
              "  </thead>\n",
              "  <tbody>\n",
              "    <tr>\n",
              "      <th>0</th>\n",
              "      <td>part</td>\n",
              "      <td>restored</td>\n",
              "      <td>technology</td>\n",
              "      <td>dieser</td>\n",
              "    </tr>\n",
              "    <tr>\n",
              "      <th>1</th>\n",
              "      <td>share</td>\n",
              "      <td>confluent</td>\n",
              "      <td>light</td>\n",
              "      <td>2009</td>\n",
              "    </tr>\n",
              "    <tr>\n",
              "      <th>2</th>\n",
              "      <td>technology</td>\n",
              "      <td>tissue</td>\n",
              "      <td>share</td>\n",
              "      <td>klinisch</td>\n",
              "    </tr>\n",
              "    <tr>\n",
              "      <th>3</th>\n",
              "      <td>light</td>\n",
              "      <td>hepg2</td>\n",
              "      <td>part</td>\n",
              "      <td>10000</td>\n",
              "    </tr>\n",
              "    <tr>\n",
              "      <th>4</th>\n",
              "      <td>participate</td>\n",
              "      <td>haematological</td>\n",
              "      <td>grocery</td>\n",
              "      <td>teil</td>\n",
              "    </tr>\n",
              "  </tbody>\n",
              "</table>\n",
              "</div>\n",
              "      <button class=\"colab-df-convert\" onclick=\"convertToInteractive('df-2f3ddfb6-15f2-4f28-9f52-fd0b63fb36b3')\"\n",
              "              title=\"Convert this dataframe to an interactive table.\"\n",
              "              style=\"display:none;\">\n",
              "        \n",
              "  <svg xmlns=\"http://www.w3.org/2000/svg\" height=\"24px\"viewBox=\"0 0 24 24\"\n",
              "       width=\"24px\">\n",
              "    <path d=\"M0 0h24v24H0V0z\" fill=\"none\"/>\n",
              "    <path d=\"M18.56 5.44l.94 2.06.94-2.06 2.06-.94-2.06-.94-.94-2.06-.94 2.06-2.06.94zm-11 1L8.5 8.5l.94-2.06 2.06-.94-2.06-.94L8.5 2.5l-.94 2.06-2.06.94zm10 10l.94 2.06.94-2.06 2.06-.94-2.06-.94-.94-2.06-.94 2.06-2.06.94z\"/><path d=\"M17.41 7.96l-1.37-1.37c-.4-.4-.92-.59-1.43-.59-.52 0-1.04.2-1.43.59L10.3 9.45l-7.72 7.72c-.78.78-.78 2.05 0 2.83L4 21.41c.39.39.9.59 1.41.59.51 0 1.02-.2 1.41-.59l7.78-7.78 2.81-2.81c.8-.78.8-2.07 0-2.86zM5.41 20L4 18.59l7.72-7.72 1.47 1.35L5.41 20z\"/>\n",
              "  </svg>\n",
              "      </button>\n",
              "      \n",
              "  <style>\n",
              "    .colab-df-container {\n",
              "      display:flex;\n",
              "      flex-wrap:wrap;\n",
              "      gap: 12px;\n",
              "    }\n",
              "\n",
              "    .colab-df-convert {\n",
              "      background-color: #E8F0FE;\n",
              "      border: none;\n",
              "      border-radius: 50%;\n",
              "      cursor: pointer;\n",
              "      display: none;\n",
              "      fill: #1967D2;\n",
              "      height: 32px;\n",
              "      padding: 0 0 0 0;\n",
              "      width: 32px;\n",
              "    }\n",
              "\n",
              "    .colab-df-convert:hover {\n",
              "      background-color: #E2EBFA;\n",
              "      box-shadow: 0px 1px 2px rgba(60, 64, 67, 0.3), 0px 1px 3px 1px rgba(60, 64, 67, 0.15);\n",
              "      fill: #174EA6;\n",
              "    }\n",
              "\n",
              "    [theme=dark] .colab-df-convert {\n",
              "      background-color: #3B4455;\n",
              "      fill: #D2E3FC;\n",
              "    }\n",
              "\n",
              "    [theme=dark] .colab-df-convert:hover {\n",
              "      background-color: #434B5C;\n",
              "      box-shadow: 0px 1px 3px 1px rgba(0, 0, 0, 0.15);\n",
              "      filter: drop-shadow(0px 1px 2px rgba(0, 0, 0, 0.3));\n",
              "      fill: #FFFFFF;\n",
              "    }\n",
              "  </style>\n",
              "\n",
              "      <script>\n",
              "        const buttonEl =\n",
              "          document.querySelector('#df-2f3ddfb6-15f2-4f28-9f52-fd0b63fb36b3 button.colab-df-convert');\n",
              "        buttonEl.style.display =\n",
              "          google.colab.kernel.accessAllowed ? 'block' : 'none';\n",
              "\n",
              "        async function convertToInteractive(key) {\n",
              "          const element = document.querySelector('#df-2f3ddfb6-15f2-4f28-9f52-fd0b63fb36b3');\n",
              "          const dataTable =\n",
              "            await google.colab.kernel.invokeFunction('convertToInteractive',\n",
              "                                                     [key], {});\n",
              "          if (!dataTable) return;\n",
              "\n",
              "          const docLinkHtml = 'Like what you see? Visit the ' +\n",
              "            '<a target=\"_blank\" href=https://colab.research.google.com/notebooks/data_table.ipynb>data table notebook</a>'\n",
              "            + ' to learn more about interactive tables.';\n",
              "          element.innerHTML = '';\n",
              "          dataTable['output_type'] = 'display_data';\n",
              "          await google.colab.output.renderOutput(dataTable, element);\n",
              "          const docLink = document.createElement('div');\n",
              "          docLink.innerHTML = docLinkHtml;\n",
              "          element.appendChild(docLink);\n",
              "        }\n",
              "      </script>\n",
              "    </div>\n",
              "  </div>\n",
              "  "
            ]
          },
          "metadata": {},
          "execution_count": 45
        }
      ],
      "source": [
        "nouns = [\"apple\", \"covid\", \"tumour\", \"german\"]\n",
        "make_table(nouns)"
      ]
    }
  ],
  "metadata": {
    "colab": {
      "provenance": []
    },
    "gpuClass": "standard",
    "kernelspec": {
      "display_name": "Python 3",
      "name": "python3"
    },
    "language_info": {
      "name": "python"
    },
    "widgets": {
      "application/vnd.jupyter.widget-state+json": {
        "16b2348214c5439fafcdfa6028cfea75": {
          "model_module": "@jupyter-widgets/controls",
          "model_module_version": "1.5.0",
          "model_name": "DescriptionStyleModel",
          "state": {
            "_model_module": "@jupyter-widgets/controls",
            "_model_module_version": "1.5.0",
            "_model_name": "DescriptionStyleModel",
            "_view_count": null,
            "_view_module": "@jupyter-widgets/base",
            "_view_module_version": "1.2.0",
            "_view_name": "StyleView",
            "description_width": ""
          }
        },
        "417be8240e894f6098835d6abe916478": {
          "model_module": "@jupyter-widgets/controls",
          "model_module_version": "1.5.0",
          "model_name": "DescriptionStyleModel",
          "state": {
            "_model_module": "@jupyter-widgets/controls",
            "_model_module_version": "1.5.0",
            "_model_name": "DescriptionStyleModel",
            "_view_count": null,
            "_view_module": "@jupyter-widgets/base",
            "_view_module_version": "1.2.0",
            "_view_name": "StyleView",
            "description_width": ""
          }
        },
        "4c30f391628a4518bc9ec0e611a16beb": {
          "model_module": "@jupyter-widgets/base",
          "model_module_version": "1.2.0",
          "model_name": "LayoutModel",
          "state": {
            "_model_module": "@jupyter-widgets/base",
            "_model_module_version": "1.2.0",
            "_model_name": "LayoutModel",
            "_view_count": null,
            "_view_module": "@jupyter-widgets/base",
            "_view_module_version": "1.2.0",
            "_view_name": "LayoutView",
            "align_content": null,
            "align_items": null,
            "align_self": null,
            "border": null,
            "bottom": null,
            "display": null,
            "flex": null,
            "flex_flow": null,
            "grid_area": null,
            "grid_auto_columns": null,
            "grid_auto_flow": null,
            "grid_auto_rows": null,
            "grid_column": null,
            "grid_gap": null,
            "grid_row": null,
            "grid_template_areas": null,
            "grid_template_columns": null,
            "grid_template_rows": null,
            "height": null,
            "justify_content": null,
            "justify_items": null,
            "left": null,
            "margin": null,
            "max_height": null,
            "max_width": null,
            "min_height": null,
            "min_width": null,
            "object_fit": null,
            "object_position": null,
            "order": null,
            "overflow": null,
            "overflow_x": null,
            "overflow_y": null,
            "padding": null,
            "right": null,
            "top": null,
            "visibility": null,
            "width": null
          }
        },
        "4c4e770b711b42948396baf01be0be29": {
          "model_module": "@jupyter-widgets/base",
          "model_module_version": "1.2.0",
          "model_name": "LayoutModel",
          "state": {
            "_model_module": "@jupyter-widgets/base",
            "_model_module_version": "1.2.0",
            "_model_name": "LayoutModel",
            "_view_count": null,
            "_view_module": "@jupyter-widgets/base",
            "_view_module_version": "1.2.0",
            "_view_name": "LayoutView",
            "align_content": null,
            "align_items": null,
            "align_self": null,
            "border": null,
            "bottom": null,
            "display": null,
            "flex": null,
            "flex_flow": null,
            "grid_area": null,
            "grid_auto_columns": null,
            "grid_auto_flow": null,
            "grid_auto_rows": null,
            "grid_column": null,
            "grid_gap": null,
            "grid_row": null,
            "grid_template_areas": null,
            "grid_template_columns": null,
            "grid_template_rows": null,
            "height": null,
            "justify_content": null,
            "justify_items": null,
            "left": null,
            "margin": null,
            "max_height": null,
            "max_width": null,
            "min_height": null,
            "min_width": null,
            "object_fit": null,
            "object_position": null,
            "order": null,
            "overflow": null,
            "overflow_x": null,
            "overflow_y": null,
            "padding": null,
            "right": null,
            "top": null,
            "visibility": null,
            "width": null
          }
        },
        "67e844b8aef1401a831b281bf766c5f2": {
          "model_module": "@jupyter-widgets/base",
          "model_module_version": "1.2.0",
          "model_name": "LayoutModel",
          "state": {
            "_model_module": "@jupyter-widgets/base",
            "_model_module_version": "1.2.0",
            "_model_name": "LayoutModel",
            "_view_count": null,
            "_view_module": "@jupyter-widgets/base",
            "_view_module_version": "1.2.0",
            "_view_name": "LayoutView",
            "align_content": null,
            "align_items": null,
            "align_self": null,
            "border": null,
            "bottom": null,
            "display": null,
            "flex": null,
            "flex_flow": null,
            "grid_area": null,
            "grid_auto_columns": null,
            "grid_auto_flow": null,
            "grid_auto_rows": null,
            "grid_column": null,
            "grid_gap": null,
            "grid_row": null,
            "grid_template_areas": null,
            "grid_template_columns": null,
            "grid_template_rows": null,
            "height": null,
            "justify_content": null,
            "justify_items": null,
            "left": null,
            "margin": null,
            "max_height": null,
            "max_width": null,
            "min_height": null,
            "min_width": null,
            "object_fit": null,
            "object_position": null,
            "order": null,
            "overflow": null,
            "overflow_x": null,
            "overflow_y": null,
            "padding": null,
            "right": null,
            "top": null,
            "visibility": null,
            "width": null
          }
        },
        "6aa63cb3b7a24320b3a8fedb2f239052": {
          "model_module": "@jupyter-widgets/base",
          "model_module_version": "1.2.0",
          "model_name": "LayoutModel",
          "state": {
            "_model_module": "@jupyter-widgets/base",
            "_model_module_version": "1.2.0",
            "_model_name": "LayoutModel",
            "_view_count": null,
            "_view_module": "@jupyter-widgets/base",
            "_view_module_version": "1.2.0",
            "_view_name": "LayoutView",
            "align_content": null,
            "align_items": null,
            "align_self": null,
            "border": null,
            "bottom": null,
            "display": null,
            "flex": null,
            "flex_flow": null,
            "grid_area": null,
            "grid_auto_columns": null,
            "grid_auto_flow": null,
            "grid_auto_rows": null,
            "grid_column": null,
            "grid_gap": null,
            "grid_row": null,
            "grid_template_areas": null,
            "grid_template_columns": null,
            "grid_template_rows": null,
            "height": null,
            "justify_content": null,
            "justify_items": null,
            "left": null,
            "margin": null,
            "max_height": null,
            "max_width": null,
            "min_height": null,
            "min_width": null,
            "object_fit": null,
            "object_position": null,
            "order": null,
            "overflow": null,
            "overflow_x": null,
            "overflow_y": null,
            "padding": null,
            "right": null,
            "top": null,
            "visibility": null,
            "width": null
          }
        },
        "71ebbb3e2ed24779b13eee8bdc085633": {
          "model_module": "@jupyter-widgets/controls",
          "model_module_version": "1.5.0",
          "model_name": "HBoxModel",
          "state": {
            "_dom_classes": [],
            "_model_module": "@jupyter-widgets/controls",
            "_model_module_version": "1.5.0",
            "_model_name": "HBoxModel",
            "_view_count": null,
            "_view_module": "@jupyter-widgets/controls",
            "_view_module_version": "1.5.0",
            "_view_name": "HBoxView",
            "box_style": "",
            "children": [
              "IPY_MODEL_8953b8a4393e4bf29e721af752e55a65",
              "IPY_MODEL_777bb513295c415bab646696340faa8a",
              "IPY_MODEL_acc1c51b91ea4a65b027be97d1dafc0e"
            ],
            "layout": "IPY_MODEL_6aa63cb3b7a24320b3a8fedb2f239052"
          }
        },
        "777bb513295c415bab646696340faa8a": {
          "model_module": "@jupyter-widgets/controls",
          "model_module_version": "1.5.0",
          "model_name": "FloatProgressModel",
          "state": {
            "_dom_classes": [],
            "_model_module": "@jupyter-widgets/controls",
            "_model_module_version": "1.5.0",
            "_model_name": "FloatProgressModel",
            "_view_count": null,
            "_view_module": "@jupyter-widgets/controls",
            "_view_module_version": "1.5.0",
            "_view_name": "ProgressView",
            "bar_style": "success",
            "description": "",
            "description_tooltip": null,
            "layout": "IPY_MODEL_67e844b8aef1401a831b281bf766c5f2",
            "max": 39999,
            "min": 0,
            "orientation": "horizontal",
            "style": "IPY_MODEL_81b8186e90fa4c32b3d7cde34c99f714",
            "value": 39999
          }
        },
        "81b8186e90fa4c32b3d7cde34c99f714": {
          "model_module": "@jupyter-widgets/controls",
          "model_module_version": "1.5.0",
          "model_name": "ProgressStyleModel",
          "state": {
            "_model_module": "@jupyter-widgets/controls",
            "_model_module_version": "1.5.0",
            "_model_name": "ProgressStyleModel",
            "_view_count": null,
            "_view_module": "@jupyter-widgets/base",
            "_view_module_version": "1.2.0",
            "_view_name": "StyleView",
            "bar_color": null,
            "description_width": ""
          }
        },
        "8953b8a4393e4bf29e721af752e55a65": {
          "model_module": "@jupyter-widgets/controls",
          "model_module_version": "1.5.0",
          "model_name": "HTMLModel",
          "state": {
            "_dom_classes": [],
            "_model_module": "@jupyter-widgets/controls",
            "_model_module_version": "1.5.0",
            "_model_name": "HTMLModel",
            "_view_count": null,
            "_view_module": "@jupyter-widgets/controls",
            "_view_module_version": "1.5.0",
            "_view_name": "HTMLView",
            "description": "",
            "description_tooltip": null,
            "layout": "IPY_MODEL_4c4e770b711b42948396baf01be0be29",
            "placeholder": "​",
            "style": "IPY_MODEL_16b2348214c5439fafcdfa6028cfea75",
            "value": "100%"
          }
        },
        "acc1c51b91ea4a65b027be97d1dafc0e": {
          "model_module": "@jupyter-widgets/controls",
          "model_module_version": "1.5.0",
          "model_name": "HTMLModel",
          "state": {
            "_dom_classes": [],
            "_model_module": "@jupyter-widgets/controls",
            "_model_module_version": "1.5.0",
            "_model_name": "HTMLModel",
            "_view_count": null,
            "_view_module": "@jupyter-widgets/controls",
            "_view_module_version": "1.5.0",
            "_view_name": "HTMLView",
            "description": "",
            "description_tooltip": null,
            "layout": "IPY_MODEL_4c30f391628a4518bc9ec0e611a16beb",
            "placeholder": "​",
            "style": "IPY_MODEL_417be8240e894f6098835d6abe916478",
            "value": " 39999/39999 [07:45&lt;00:00, 97.65it/s]"
          }
        },
        "78234bc3cad74a1facf3f73a97aee358": {
          "model_module": "@jupyter-widgets/controls",
          "model_name": "HBoxModel",
          "model_module_version": "1.5.0",
          "state": {
            "_dom_classes": [],
            "_model_module": "@jupyter-widgets/controls",
            "_model_module_version": "1.5.0",
            "_model_name": "HBoxModel",
            "_view_count": null,
            "_view_module": "@jupyter-widgets/controls",
            "_view_module_version": "1.5.0",
            "_view_name": "HBoxView",
            "box_style": "",
            "children": [
              "IPY_MODEL_423df7081ab54c9ea30e14a5280bcdfd",
              "IPY_MODEL_7c5120619d6b42318d777d5016ccd593",
              "IPY_MODEL_92274ba05540427d86c33ef5beb99861"
            ],
            "layout": "IPY_MODEL_e940fd949ed74403a703915feb2165e9"
          }
        },
        "423df7081ab54c9ea30e14a5280bcdfd": {
          "model_module": "@jupyter-widgets/controls",
          "model_name": "HTMLModel",
          "model_module_version": "1.5.0",
          "state": {
            "_dom_classes": [],
            "_model_module": "@jupyter-widgets/controls",
            "_model_module_version": "1.5.0",
            "_model_name": "HTMLModel",
            "_view_count": null,
            "_view_module": "@jupyter-widgets/controls",
            "_view_module_version": "1.5.0",
            "_view_name": "HTMLView",
            "description": "",
            "description_tooltip": null,
            "layout": "IPY_MODEL_cf499712c22447939890d09bf8e6845f",
            "placeholder": "​",
            "style": "IPY_MODEL_db230609627a44febc2dc8eafafa3fd3",
            "value": "100%"
          }
        },
        "7c5120619d6b42318d777d5016ccd593": {
          "model_module": "@jupyter-widgets/controls",
          "model_name": "FloatProgressModel",
          "model_module_version": "1.5.0",
          "state": {
            "_dom_classes": [],
            "_model_module": "@jupyter-widgets/controls",
            "_model_module_version": "1.5.0",
            "_model_name": "FloatProgressModel",
            "_view_count": null,
            "_view_module": "@jupyter-widgets/controls",
            "_view_module_version": "1.5.0",
            "_view_name": "ProgressView",
            "bar_style": "success",
            "description": "",
            "description_tooltip": null,
            "layout": "IPY_MODEL_141db81359894d598b5a671b70ba9738",
            "max": 15211,
            "min": 0,
            "orientation": "horizontal",
            "style": "IPY_MODEL_13a99aaef4e14bff85aff31eb922bb94",
            "value": 15211
          }
        },
        "92274ba05540427d86c33ef5beb99861": {
          "model_module": "@jupyter-widgets/controls",
          "model_name": "HTMLModel",
          "model_module_version": "1.5.0",
          "state": {
            "_dom_classes": [],
            "_model_module": "@jupyter-widgets/controls",
            "_model_module_version": "1.5.0",
            "_model_name": "HTMLModel",
            "_view_count": null,
            "_view_module": "@jupyter-widgets/controls",
            "_view_module_version": "1.5.0",
            "_view_name": "HTMLView",
            "description": "",
            "description_tooltip": null,
            "layout": "IPY_MODEL_0941c855287d4026bac7ee3e1116978d",
            "placeholder": "​",
            "style": "IPY_MODEL_a17fd41526e742d78db08c231cc4fc60",
            "value": " 15211/15211 [20:42&lt;00:00, 14.31it/s]"
          }
        },
        "e940fd949ed74403a703915feb2165e9": {
          "model_module": "@jupyter-widgets/base",
          "model_name": "LayoutModel",
          "model_module_version": "1.2.0",
          "state": {
            "_model_module": "@jupyter-widgets/base",
            "_model_module_version": "1.2.0",
            "_model_name": "LayoutModel",
            "_view_count": null,
            "_view_module": "@jupyter-widgets/base",
            "_view_module_version": "1.2.0",
            "_view_name": "LayoutView",
            "align_content": null,
            "align_items": null,
            "align_self": null,
            "border": null,
            "bottom": null,
            "display": null,
            "flex": null,
            "flex_flow": null,
            "grid_area": null,
            "grid_auto_columns": null,
            "grid_auto_flow": null,
            "grid_auto_rows": null,
            "grid_column": null,
            "grid_gap": null,
            "grid_row": null,
            "grid_template_areas": null,
            "grid_template_columns": null,
            "grid_template_rows": null,
            "height": null,
            "justify_content": null,
            "justify_items": null,
            "left": null,
            "margin": null,
            "max_height": null,
            "max_width": null,
            "min_height": null,
            "min_width": null,
            "object_fit": null,
            "object_position": null,
            "order": null,
            "overflow": null,
            "overflow_x": null,
            "overflow_y": null,
            "padding": null,
            "right": null,
            "top": null,
            "visibility": null,
            "width": null
          }
        },
        "cf499712c22447939890d09bf8e6845f": {
          "model_module": "@jupyter-widgets/base",
          "model_name": "LayoutModel",
          "model_module_version": "1.2.0",
          "state": {
            "_model_module": "@jupyter-widgets/base",
            "_model_module_version": "1.2.0",
            "_model_name": "LayoutModel",
            "_view_count": null,
            "_view_module": "@jupyter-widgets/base",
            "_view_module_version": "1.2.0",
            "_view_name": "LayoutView",
            "align_content": null,
            "align_items": null,
            "align_self": null,
            "border": null,
            "bottom": null,
            "display": null,
            "flex": null,
            "flex_flow": null,
            "grid_area": null,
            "grid_auto_columns": null,
            "grid_auto_flow": null,
            "grid_auto_rows": null,
            "grid_column": null,
            "grid_gap": null,
            "grid_row": null,
            "grid_template_areas": null,
            "grid_template_columns": null,
            "grid_template_rows": null,
            "height": null,
            "justify_content": null,
            "justify_items": null,
            "left": null,
            "margin": null,
            "max_height": null,
            "max_width": null,
            "min_height": null,
            "min_width": null,
            "object_fit": null,
            "object_position": null,
            "order": null,
            "overflow": null,
            "overflow_x": null,
            "overflow_y": null,
            "padding": null,
            "right": null,
            "top": null,
            "visibility": null,
            "width": null
          }
        },
        "db230609627a44febc2dc8eafafa3fd3": {
          "model_module": "@jupyter-widgets/controls",
          "model_name": "DescriptionStyleModel",
          "model_module_version": "1.5.0",
          "state": {
            "_model_module": "@jupyter-widgets/controls",
            "_model_module_version": "1.5.0",
            "_model_name": "DescriptionStyleModel",
            "_view_count": null,
            "_view_module": "@jupyter-widgets/base",
            "_view_module_version": "1.2.0",
            "_view_name": "StyleView",
            "description_width": ""
          }
        },
        "141db81359894d598b5a671b70ba9738": {
          "model_module": "@jupyter-widgets/base",
          "model_name": "LayoutModel",
          "model_module_version": "1.2.0",
          "state": {
            "_model_module": "@jupyter-widgets/base",
            "_model_module_version": "1.2.0",
            "_model_name": "LayoutModel",
            "_view_count": null,
            "_view_module": "@jupyter-widgets/base",
            "_view_module_version": "1.2.0",
            "_view_name": "LayoutView",
            "align_content": null,
            "align_items": null,
            "align_self": null,
            "border": null,
            "bottom": null,
            "display": null,
            "flex": null,
            "flex_flow": null,
            "grid_area": null,
            "grid_auto_columns": null,
            "grid_auto_flow": null,
            "grid_auto_rows": null,
            "grid_column": null,
            "grid_gap": null,
            "grid_row": null,
            "grid_template_areas": null,
            "grid_template_columns": null,
            "grid_template_rows": null,
            "height": null,
            "justify_content": null,
            "justify_items": null,
            "left": null,
            "margin": null,
            "max_height": null,
            "max_width": null,
            "min_height": null,
            "min_width": null,
            "object_fit": null,
            "object_position": null,
            "order": null,
            "overflow": null,
            "overflow_x": null,
            "overflow_y": null,
            "padding": null,
            "right": null,
            "top": null,
            "visibility": null,
            "width": null
          }
        },
        "13a99aaef4e14bff85aff31eb922bb94": {
          "model_module": "@jupyter-widgets/controls",
          "model_name": "ProgressStyleModel",
          "model_module_version": "1.5.0",
          "state": {
            "_model_module": "@jupyter-widgets/controls",
            "_model_module_version": "1.5.0",
            "_model_name": "ProgressStyleModel",
            "_view_count": null,
            "_view_module": "@jupyter-widgets/base",
            "_view_module_version": "1.2.0",
            "_view_name": "StyleView",
            "bar_color": null,
            "description_width": ""
          }
        },
        "0941c855287d4026bac7ee3e1116978d": {
          "model_module": "@jupyter-widgets/base",
          "model_name": "LayoutModel",
          "model_module_version": "1.2.0",
          "state": {
            "_model_module": "@jupyter-widgets/base",
            "_model_module_version": "1.2.0",
            "_model_name": "LayoutModel",
            "_view_count": null,
            "_view_module": "@jupyter-widgets/base",
            "_view_module_version": "1.2.0",
            "_view_name": "LayoutView",
            "align_content": null,
            "align_items": null,
            "align_self": null,
            "border": null,
            "bottom": null,
            "display": null,
            "flex": null,
            "flex_flow": null,
            "grid_area": null,
            "grid_auto_columns": null,
            "grid_auto_flow": null,
            "grid_auto_rows": null,
            "grid_column": null,
            "grid_gap": null,
            "grid_row": null,
            "grid_template_areas": null,
            "grid_template_columns": null,
            "grid_template_rows": null,
            "height": null,
            "justify_content": null,
            "justify_items": null,
            "left": null,
            "margin": null,
            "max_height": null,
            "max_width": null,
            "min_height": null,
            "min_width": null,
            "object_fit": null,
            "object_position": null,
            "order": null,
            "overflow": null,
            "overflow_x": null,
            "overflow_y": null,
            "padding": null,
            "right": null,
            "top": null,
            "visibility": null,
            "width": null
          }
        },
        "a17fd41526e742d78db08c231cc4fc60": {
          "model_module": "@jupyter-widgets/controls",
          "model_name": "DescriptionStyleModel",
          "model_module_version": "1.5.0",
          "state": {
            "_model_module": "@jupyter-widgets/controls",
            "_model_module_version": "1.5.0",
            "_model_name": "DescriptionStyleModel",
            "_view_count": null,
            "_view_module": "@jupyter-widgets/base",
            "_view_module_version": "1.2.0",
            "_view_name": "StyleView",
            "description_width": ""
          }
        }
      }
    }
  },
  "nbformat": 4,
  "nbformat_minor": 0
}