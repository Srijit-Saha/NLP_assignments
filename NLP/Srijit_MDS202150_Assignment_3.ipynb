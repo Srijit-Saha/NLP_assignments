{
  "cells": [
    {
      "cell_type": "code",
      "execution_count": null,
      "metadata": {
        "id": "y1mzBzC1qFS9"
      },
      "outputs": [],
      "source": [
        "# from google.colab import drive\n",
        "# drive.mount('/content/drive')"
      ]
    },
    {
      "cell_type": "code",
      "execution_count": null,
      "metadata": {
        "colab": {
          "base_uri": "https://localhost:8080/"
        },
        "id": "v_PidKaFnY_Y",
        "outputId": "c444c131-8bad-440d-e43f-1ca7961cac1b"
      },
      "outputs": [
        {
          "output_type": "stream",
          "name": "stdout",
          "text": [
            "Looking in indexes: https://pypi.org/simple, https://us-python.pkg.dev/colab-wheels/public/simple/\n",
            "Collecting shutup\n",
            "  Downloading shutup-0.2.0-py3-none-any.whl (1.5 kB)\n",
            "Installing collected packages: shutup\n",
            "Successfully installed shutup-0.2.0\n",
            "Looking in indexes: https://pypi.org/simple, https://us-python.pkg.dev/colab-wheels/public/simple/\n",
            "Collecting keras_preprocessing\n",
            "  Downloading Keras_Preprocessing-1.1.2-py2.py3-none-any.whl (42 kB)\n",
            "\u001b[2K     \u001b[90m━━━━━━━━━━━━━━━━━━━━━━━━━━━━━━━━━━━━━━━━\u001b[0m \u001b[32m42.6/42.6 kB\u001b[0m \u001b[31m2.3 MB/s\u001b[0m eta \u001b[36m0:00:00\u001b[0m\n",
            "\u001b[?25hRequirement already satisfied: numpy>=1.9.1 in /usr/local/lib/python3.9/dist-packages (from keras_preprocessing) (1.22.4)\n",
            "Requirement already satisfied: six>=1.9.0 in /usr/local/lib/python3.9/dist-packages (from keras_preprocessing) (1.16.0)\n",
            "Installing collected packages: keras_preprocessing\n",
            "Successfully installed keras_preprocessing-1.1.2\n"
          ]
        },
        {
          "output_type": "stream",
          "name": "stderr",
          "text": [
            "[nltk_data] Downloading package punkt to /root/nltk_data...\n",
            "[nltk_data]   Unzipping tokenizers/punkt.zip.\n"
          ]
        }
      ],
      "source": [
        "#Importing necessary packages\n",
        "!pip install shutup\n",
        "!pip install keras_preprocessing\n",
        "import shutup\n",
        "shutup.please()\n",
        "import json\n",
        "from keras_preprocessing.sequence import pad_sequences\n",
        "from keras.layers import Embedding, LSTM, Dense,Bidirectional, Dropout\n",
        "from keras.preprocessing.text import Tokenizer\n",
        "from keras.callbacks import EarlyStopping\n",
        "from keras.models import Sequential\n",
        "import keras.utils as ku\n",
        "import numpy as np\n",
        "from keras.preprocessing.text import Tokenizer\n",
        "from keras.utils import to_categorical\n",
        "import os, re\n",
        "import nltk\n",
        "nltk.download('punkt')\n",
        "from tqdm import tqdm_notebook"
      ]
    },
    {
      "cell_type": "markdown",
      "source": [
        "*Text Extraction*"
      ],
      "metadata": {
        "id": "A64kFkiUbvhM"
      }
    },
    {
      "cell_type": "code",
      "execution_count": null,
      "metadata": {
        "colab": {
          "base_uri": "https://localhost:8080/"
        },
        "id": "mc8R1yT700dY",
        "outputId": "c4c5033a-dec8-4eb4-8230-bf95641dab5b"
      },
      "outputs": [
        {
          "output_type": "stream",
          "name": "stdout",
          "text": [
            "No. of files taken as input:  1180\n"
          ]
        }
      ],
      "source": [
        "#Reading json files\n",
        "read_path = r\"drive/MyDrive/nlp/pdf_json1180\"\n",
        "files = os.listdir(read_path)\n",
        "print(\"No. of files taken as input: \",len(files))"
      ]
    },
    {
      "cell_type": "code",
      "execution_count": null,
      "metadata": {
        "id": "Sbh0Y2R7kfEk"
      },
      "outputs": [],
      "source": [
        "# Extracting abstracts.\n",
        "\n",
        "def extract_abstract(filename :str ) -> str :\n",
        "  file = open(filename)\n",
        "  paper_content = json.load(file)\n",
        "  abstract = \"\"\n",
        "  if 'abstract' in paper_content:\n",
        "        for abs in paper_content['abstract']:\n",
        "            abstract = abstract + abs['text']\n",
        "  return (abstract + ' ' + '\\n').lower()"
      ]
    },
    {
      "cell_type": "code",
      "source": [
        "import re\n",
        "def preprocessing(text):\n",
        "\n",
        "  if \"\\n\" in text:\n",
        "    text = text.replace(\"\\n\",\"\")\n",
        "\n",
        "\n",
        "    # Converting abstracts to lower case\n",
        "    text=text.lower()\n",
        "\n",
        "    # Removing citations\n",
        "    cit_pattern = re.compile(r'\\[\\d+(,[ \\t]\\d+)\\]')\n",
        "    text = cit_pattern.sub(r'', text)\n",
        "\n",
        "    # Removing URLs\n",
        "    url_pattern = re.compile(r'https?://\\S+|www\\.\\S+')\n",
        "    text = url_pattern.sub(r'', text)\n",
        "\n",
        "    # Removing email\n",
        "    email_pattern = re.compile(r'''([-!#-'+/-9=?A-Z^-~]+(\\.[-!#-'+/-9=?A-Z^-~]+)|\"([]!#-[^-~ \\t]|(\\\\[\\t -~]))+\")@([-!#-'+/-9=?A-Z^-~]+(\\.[-!#-'+/-9=?A-Z^-~]+)|\\[[\\t -Z^-~]*])''')\n",
        "    text = email_pattern.sub(r'', text)\n",
        "\n",
        "    # Removing punctuations\n",
        "    punct_pattern = re.compile(r'[^\\w\\s]')\n",
        "    text= punct_pattern.sub(r'', text)\n",
        "\n",
        "    # Replacing multiple occurences of space with a single space\n",
        "    text=re.sub(\"\\s*\\s\",\" \",text)\n",
        "\n",
        "    words=text.split(\" \")\n",
        "    words=[i for i in words if i!='']\n",
        "\n",
        "    return words"
      ],
      "metadata": {
        "id": "o1rBJu_Ii-yW"
      },
      "execution_count": null,
      "outputs": []
    },
    {
      "cell_type": "code",
      "source": [
        "doc_words = []\n",
        "for i in tqdm_notebook(range(300)):\n",
        "  c = preprocessing(extract_abstract(read_path + '/' + files[0]))\n",
        "  doc_words.extend(c)"
      ],
      "metadata": {
        "id": "76h2qEwt4BBP",
        "colab": {
          "base_uri": "https://localhost:8080/",
          "height": 49,
          "referenced_widgets": [
            "74afe6b32b3a4332b5be0ef6858c4c25",
            "85caf3df6f6a4f38b9f745a093fc306f",
            "382564da17a24e96a5e2202031fabbac",
            "1a6dd0fc062f4124b69cf5875b77054a",
            "84c8c1c1c0bc416c997f329995c12fd7",
            "bbb6bb3000024ba3b299b1f067016685",
            "c2700084483c4c4d9995fbf4faa5a247",
            "b8bb2960d6bd48c0852fe450f23cf851",
            "6c9dc724e47d4833a8dcfe22da20074c",
            "857103cb55e54daca6ea5df50a3a0c1b",
            "e4259f3bbbf943b79ea91cc6cf31ef72"
          ]
        },
        "outputId": "61f4ffce-10d9-4139-b78f-90760e57e37e"
      },
      "execution_count": null,
      "outputs": [
        {
          "output_type": "display_data",
          "data": {
            "text/plain": [
              "  0%|          | 0/300 [00:00<?, ?it/s]"
            ],
            "application/vnd.jupyter.widget-view+json": {
              "version_major": 2,
              "version_minor": 0,
              "model_id": "74afe6b32b3a4332b5be0ef6858c4c25"
            }
          },
          "metadata": {}
        }
      ]
    },
    {
      "cell_type": "code",
      "execution_count": null,
      "metadata": {
        "colab": {
          "base_uri": "https://localhost:8080/"
        },
        "id": "yG5DgLzIzr26",
        "outputId": "25fc5cb6-54fc-4f46-85ae-76772c84d5cd"
      },
      "outputs": [
        {
          "output_type": "stream",
          "name": "stdout",
          "text": [
            "Vocabulary size:  37800\n"
          ]
        }
      ],
      "source": [
        "print(\"Vocabulary size: \",len(doc_words))"
      ]
    },
    {
      "cell_type": "code",
      "execution_count": null,
      "metadata": {
        "id": "mDGO9a2HOU_p"
      },
      "outputs": [],
      "source": [
        "# In case of RAM issue, take a subset of words from doc_words, run the command to delete the vocab array.\n",
        "\n",
        "# del doc_words"
      ]
    },
    {
      "cell_type": "code",
      "execution_count": null,
      "metadata": {
        "id": "AZrFYCWX4oWg",
        "colab": {
          "base_uri": "https://localhost:8080/"
        },
        "outputId": "24b047fa-d3a5-49fe-8d25-bf6a2cb9fa9c"
      },
      "outputs": [
        {
          "output_type": "stream",
          "name": "stdout",
          "text": [
            "37800\n"
          ]
        }
      ],
      "source": [
        "#Basic Preprocessing\n",
        "\n",
        "processed = []\n",
        "for i in doc_words:\n",
        "  if i.isalnum() == True:\n",
        "    processed.append(i)\n",
        "print(len(processed))"
      ]
    },
    {
      "cell_type": "markdown",
      "source": [
        "*Encoding layer for feeding into LSTM*"
      ],
      "metadata": {
        "id": "CKxGcBL67Fhz"
      }
    },
    {
      "cell_type": "code",
      "execution_count": null,
      "metadata": {
        "id": "61ingy6L4K-R",
        "colab": {
          "base_uri": "https://localhost:8080/"
        },
        "outputId": "f5482428-ef0f-438a-d1d7-4473957bb5c8"
      },
      "outputs": [
        {
          "output_type": "stream",
          "name": "stdout",
          "text": [
            "37800\n"
          ]
        }
      ],
      "source": [
        "# processed = processed[:5000]\n",
        "print(len(processed))\n",
        "tokenizer = Tokenizer(num_words=1000)\n",
        "def create_feed_matrix(docs = processed, window = 15):\n",
        "  beg = 0\n",
        "  text2num, pred = [],[]\n",
        "  word_seq = []\n",
        "  while(beg < len(docs) - (window + 1)):\n",
        "    sentence = docs[beg:beg + window + 1]\n",
        "    word_seq.append(sentence)\n",
        "    beg+=1\n",
        "  tokenizer.fit_on_texts(word_seq)\n",
        "  for i in word_seq:\n",
        "    sequences = tokenizer.texts_to_sequences(i)\n",
        "    if [] not in sequences:\n",
        "      seq = [i[0] for i in sequences]\n",
        "      text2num.append(seq)\n",
        "    else:\n",
        "      pass\n",
        "  return text2num\n",
        "seq_mat = create_feed_matrix()"
      ]
    },
    {
      "cell_type": "code",
      "execution_count": null,
      "metadata": {
        "id": "fD4BeMeGmb87"
      },
      "outputs": [],
      "source": [
        "# Generating input sequences and correspoding labels\n",
        "\n",
        "input_seq = [i[:-1] for i in seq_mat]\n",
        "label = [i[-1] for i in seq_mat]"
      ]
    },
    {
      "cell_type": "code",
      "execution_count": null,
      "metadata": {
        "id": "MgAqzZ6sPOAm"
      },
      "outputs": [],
      "source": [
        "# Creating the Bidirectional LSTM model\n",
        "\n",
        "def create_model(vocabulary_size, seq_len, model_params = [150,150]):\n",
        "    model = Sequential()\n",
        "    model.add(Embedding(vocabulary_size, 25, input_length=seq_len))\n",
        "    model.add(LSTM(model_params[0], return_sequences=True))\n",
        "    model.add(Dropout(0.12))\n",
        "    model.add(LSTM(model_params[1]))\n",
        "    model.add(Dropout(0.08))\n",
        "    model.add(Dense(150, activation='relu'))\n",
        "    model.add(Dense(vocabulary_size, activation='softmax'))\n",
        "    model.compile(loss='categorical_crossentropy', optimizer='adam', metrics=['accuracy'])\n",
        "    model.summary()\n",
        "    return model"
      ]
    },
    {
      "cell_type": "code",
      "execution_count": null,
      "metadata": {
        "colab": {
          "base_uri": "https://localhost:8080/"
        },
        "id": "bKwFhIczpb2v",
        "outputId": "3553d831-4dc8-4215-f136-f3538df23cbc"
      },
      "outputs": [
        {
          "output_type": "stream",
          "name": "stdout",
          "text": [
            "Model: \"sequential\"\n",
            "_________________________________________________________________\n",
            " Layer (type)                Output Shape              Param #   \n",
            "=================================================================\n",
            " embedding (Embedding)       (None, 15, 25)            944600    \n",
            "                                                                 \n",
            " lstm (LSTM)                 (None, 15, 200)           180800    \n",
            "                                                                 \n",
            " dropout (Dropout)           (None, 15, 200)           0         \n",
            "                                                                 \n",
            " lstm_1 (LSTM)               (None, 200)               320800    \n",
            "                                                                 \n",
            " dropout_1 (Dropout)         (None, 200)               0         \n",
            "                                                                 \n",
            " dense (Dense)               (None, 150)               30150     \n",
            "                                                                 \n",
            " dense_1 (Dense)             (None, 37784)             5705384   \n",
            "                                                                 \n",
            "=================================================================\n",
            "Total params: 7,181,734\n",
            "Trainable params: 7,181,734\n",
            "Non-trainable params: 0\n",
            "_________________________________________________________________\n"
          ]
        }
      ],
      "source": [
        "# Converting sequences into suitable input formats for LSTM\n",
        "\n",
        "X = np.array(input_seq)\n",
        "labels = np.array(label)\n",
        "y=to_categorical(labels,num_classes=len(labels))\n",
        "win_len = 15\n",
        "\n",
        "# # Initialising the LSTM model with two layers consisting of 200 neurons in each layer\n",
        "\n",
        "model = create_model(y.shape[0], win_len, [200,200])"
      ]
    },
    {
      "cell_type": "code",
      "source": [
        "y.shape"
      ],
      "metadata": {
        "colab": {
          "base_uri": "https://localhost:8080/"
        },
        "id": "UGh2zrvg96z8",
        "outputId": "b9a5e275-a60d-4c3f-b8b9-044f014206b7"
      },
      "execution_count": null,
      "outputs": [
        {
          "output_type": "execute_result",
          "data": {
            "text/plain": [
              "(37784, 37784)"
            ]
          },
          "metadata": {},
          "execution_count": 14
        }
      ]
    },
    {
      "cell_type": "code",
      "source": [
        "# Training the LSTM model upto 60 epochs. More epochs have a risk of overfitting. Early stopping can be used.\n",
        "\n",
        "history = model.fit(X , y ,batch_size = 30, epochs = 10 ,verbose = 1)"
      ],
      "metadata": {
        "colab": {
          "base_uri": "https://localhost:8080/"
        },
        "id": "DOIL-UzVUB5F",
        "outputId": "7ca4ee0b-968e-4be7-b0b6-b8f4e0abae71"
      },
      "execution_count": null,
      "outputs": [
        {
          "output_type": "stream",
          "name": "stdout",
          "text": [
            "Epoch 1/10\n",
            "1260/1260 [==============================] - 36s 20ms/step - loss: 4.2504 - accuracy: 0.0663\n",
            "Epoch 2/10\n",
            "1260/1260 [==============================] - 27s 22ms/step - loss: 4.1299 - accuracy: 0.0689\n",
            "Epoch 3/10\n",
            "1260/1260 [==============================] - 25s 20ms/step - loss: 4.1208 - accuracy: 0.0708\n",
            "Epoch 4/10\n",
            "1260/1260 [==============================] - 24s 19ms/step - loss: 3.1214 - accuracy: 0.2332\n",
            "Epoch 5/10\n",
            "1260/1260 [==============================] - 24s 19ms/step - loss: 0.2381 - accuracy: 0.9307\n",
            "Epoch 6/10\n",
            "1260/1260 [==============================] - 23s 18ms/step - loss: 0.0377 - accuracy: 0.9873\n",
            "Epoch 7/10\n",
            "1260/1260 [==============================] - 23s 18ms/step - loss: 0.0166 - accuracy: 0.9943\n",
            "Epoch 8/10\n",
            "1260/1260 [==============================] - 21s 17ms/step - loss: 0.0146 - accuracy: 0.9962\n",
            "Epoch 9/10\n",
            "1260/1260 [==============================] - 19s 15ms/step - loss: 0.0018 - accuracy: 0.9998\n",
            "Epoch 10/10\n",
            "1260/1260 [==============================] - 21s 16ms/step - loss: 0.0112 - accuracy: 0.9972\n"
          ]
        }
      ]
    },
    {
      "cell_type": "markdown",
      "source": [
        "Using the LSTM model, we managed to reach an accuracy of 99.72%."
      ],
      "metadata": {
        "id": "uilmNOjHqBMo"
      }
    },
    {
      "cell_type": "code",
      "source": [
        "# Plot metrics post training the LSTM network\n",
        "\n",
        "import matplotlib.pyplot as plt\n",
        "plt.rcParams[\"figure.figsize\"] = [9,6]\n",
        "def plot_metrics(m1, m2):\n",
        "  plt.subplot(1,2,1)\n",
        "  plt.plot(history.history[str(m1)], label='Training ' + str(m1), color = \"red\")\n",
        "  plt.legend()\n",
        "  plt.grid()\n",
        "  plt.subplot(1,2,2)\n",
        "  plt.plot(history.history[str(m2)], label='Training ' + str(m2), color = \"green\")\n",
        "  plt.legend()\n",
        "  plt.grid()\n",
        "  plt.show()\n",
        "plot_metrics('loss', 'accuracy')"
      ],
      "metadata": {
        "colab": {
          "base_uri": "https://localhost:8080/",
          "height": 522
        },
        "id": "xUaOlSvCUz8P",
        "outputId": "6633c93d-4ac1-4c68-9b30-80e260179d04"
      },
      "execution_count": null,
      "outputs": [
        {
          "output_type": "display_data",
          "data": {
            "text/plain": [
              "<Figure size 900x600 with 2 Axes>"
            ],
            "image/png": "[encoded data removed]"
          },
          "metadata": {}
        }
      ]
    },
    {
      "cell_type": "markdown",
      "source": [
        "**Decoding layer** - *Decodes the generated text after training the LSTM model.*"
      ],
      "metadata": {
        "id": "_5w2cE7-8t9r"
      }
    },
    {
      "cell_type": "code",
      "execution_count": null,
      "metadata": {
        "id": "Bn3fgvvoyCL0"
      },
      "outputs": [],
      "source": [
        "#Generates new text from given abstract\n",
        "def generate_text(model, tokenizer, seq_len, seed_text, num_gen_words):\n",
        "    output_text = []\n",
        "    input_text = seed_text\n",
        "    for i in range(num_gen_words):\n",
        "      encoded_text = tokenizer.texts_to_sequences([input_text])[0]\n",
        "      pad_encoded = pad_sequences([encoded_text], maxlen=seq_len, truncating='pre')\n",
        "      pred_word_ind = np.argmax(model.predict(pad_encoded, verbose=0)[0])\n",
        "      pred_word = tokenizer.index_word[pred_word_ind]\n",
        "      input_text += ' ' + pred_word\n",
        "      output_text.append(pred_word)\n",
        "    return ' '.join(output_text)"
      ]
    },
    {
      "cell_type": "markdown",
      "source": [
        "**Find is a list containing 100 most commonly used words in the English Language**"
      ],
      "metadata": {
        "id": "zVgEWxP361k8"
      }
    },
    {
      "cell_type": "code",
      "source": [
        "import random\n",
        "find = ['the', 'my', 'of', 'use', 'and', 'would', 'first', 'a', 'from', 'like', 'been', 'in', 'or', 'she', 'one', 'do', 'into', 'who', 'you', 'had', 'that', 'by', 'their', 'has', 'its', 'it', 'word', 'if', 'look', 'now', 'will', 'two', 'find', 'more', 'long', 'for', 'what', 'other', 'write', 'down', 'on', 'all', 'about', 'go', 'day', 'are', 'were', 'out', 'see', 'did', 'as', 'we', 'many', 'number', 'get', 'with', 'when', 'then', 'no', 'come', 'his', 'your', 'them', 'way', 'made', 'they', 'can', 'these', 'could', 'may', 'I', 'said', 'so', 'people', 'part', 'at', 'there', 'some', 'be', 'her', 'than', 'this', 'an', 'have', 'each', 'make', 'to', 'which', 'him', 'but', 'was', 'not', 'up', 'call', 'is']\n",
        "# selects random words from the vocabulary, not including the most common words\n",
        "\n",
        "def select_random_wrd(size = 10, commons = find, vocab = processed):\n",
        "  fresh, UpdatedList = [],[]\n",
        "  while len(fresh) < 10:\n",
        "    UpdatedList = random.choices(processed, k = size)\n",
        "    for i in UpdatedList:\n",
        "      if i in commons:\n",
        "        pass\n",
        "      else:\n",
        "        fresh.append(i)\n",
        "  return fresh\n",
        "wrd_list = list(set(select_random_wrd()))\n",
        "fresh_wrd_list = [i for i in wrd_list if len(i) > 5]\n",
        "fresh_wrd_list"
      ],
      "metadata": {
        "colab": {
          "base_uri": "https://localhost:8080/"
        },
        "id": "tHrkrvMrvBjz",
        "outputId": "8d9c1bcf-bc4d-49ea-a4ab-0e1b4de4ca7c"
      },
      "execution_count": null,
      "outputs": [
        {
          "output_type": "execute_result",
          "data": {
            "text/plain": [
              "['cabbage',\n",
              " 'activity',\n",
              " 'demonstrated',\n",
              " 'oxysporum',\n",
              " 'chromatographic',\n",
              " 'binding',\n",
              " 'reverse',\n",
              " 'peptide',\n",
              " 'thermostability',\n",
              " 'stability',\n",
              " 'antifungal',\n",
              " 'arachidicola']"
            ]
          },
          "metadata": {},
          "execution_count": 67
        }
      ]
    },
    {
      "cell_type": "code",
      "source": [
        "# shows generated text results for each word derived from the corpus itself\n",
        "\n",
        "def show_results_for_wrd(num_words = 50):\n",
        "  for wrd in fresh_wrd_list[:6]:\n",
        "    out_sent =generate_text(model,tokenizer,seq_len = 15,seed_text=wrd,num_gen_words=num_words)\n",
        "    print(\"Actual word:-\", wrd)\n",
        "    print(\"\\n\")\n",
        "    print(\"Generated sentence :-\",out_sent)\n",
        "    print(\"\\n\")\n",
        "print(\"\\n\")\n",
        "print(\"*\" * 150)\n",
        "print(\"\\n\")\n",
        "show_results_for_wrd(30)"
      ],
      "metadata": {
        "colab": {
          "base_uri": "https://localhost:8080/"
        },
        "id": "YuhKfXSi467-",
        "outputId": "40e1bc71-22a8-4ac4-eea7-7c22ff2a0399"
      },
      "execution_count": null,
      "outputs": [
        {
          "output_type": "stream",
          "name": "stdout",
          "text": [
            "\n",
            "\n",
            "******************************************************************************************************************************************************\n",
            "\n",
            "\n",
            "Actual word:- cabbage\n",
            "\n",
            "\n",
            "Generated sentence :- adsorbed on the first three chromatographic media it exerted an inhibitory action on mycelial growth including fusarium oxysporum and mycosphaerella arachidicola with an ic 50 of 51 μm and 44\n",
            "\n",
            "\n",
            "Actual word:- activity\n",
            "\n",
            "\n",
            "Generated sentence :- an 94kda antifungal peptide designated as campesin was isolated from seeds of the cabbage brassica campestris the isolation procedure involved affinity chromatography on affigel blue gel ion exchange chromatography on\n",
            "\n",
            "\n",
            "Actual word:- demonstrated\n",
            "\n",
            "\n",
            "Generated sentence :- as campesin was isolated from seeds of the cabbage brassica campestris the isolation procedure involved affinity chromatography on affigel blue gel ion exchange chromatography on qsepharose and mono s and\n",
            "\n",
            "\n",
            "Actual word:- oxysporum\n",
            "\n",
            "\n",
            "Generated sentence :- and qsepharose and mono s and gel filtration on superdex 75 and superdex peptide the peptide was adsorbed on the first three chromatographic media it exerted an inhibitory action on\n",
            "\n",
            "\n",
            "Actual word:- chromatographic\n",
            "\n",
            "\n",
            "Generated sentence :- adsorbed on the first three chromatographic media it exerted an inhibitory action on mycelial growth including fusarium oxysporum and mycosphaerella arachidicola with an ic 50 of 51 μm and 44\n",
            "\n",
            "\n",
            "Actual word:- binding\n",
            "\n",
            "\n",
            "Generated sentence :- was characterized by remarkable thermostability and ph stability it inhibited proliferation of hepg2 and mcf cancer cells with an ic 50 of 64 μm and 18 μm and the activity\n",
            "\n",
            "\n"
          ]
        }
      ]
    },
    {
      "cell_type": "code",
      "source": [
        "# Try for random words outside corpus\n",
        "\n",
        "ved = str(input(\"Hi!, \\nEnter a prompt \"))\n",
        "print(\"\\n\")\n",
        "print(\"*\" * 200)\n",
        "print(\"\\n\")\n",
        "print(generate_text(model,tokenizer,seq_len = 15,seed_text=ved,num_gen_words=20))\n"
      ],
      "metadata": {
        "colab": {
          "base_uri": "https://localhost:8080/"
        },
        "id": "4uVsvXwD6Bnt",
        "outputId": "a82f8710-37ea-41cf-be8a-9eff94a7b960"
      },
      "execution_count": null,
      "outputs": [
        {
          "output_type": "stream",
          "name": "stdout",
          "text": [
            "Hi!, \n",
            "Enter a prompt Srijit\n",
            "\n",
            "\n",
            "********************************************************************************************************************************************************************************************************\n",
            "\n",
            "\n",
            "was adsorbed on the first three chromatographic media it exerted an inhibitory action on mycelial growth including fusarium oxysporum and\n"
          ]
        }
      ]
    }
  ],
  "metadata": {
    "accelerator": "GPU",
    "colab": {
      "provenance": []
    },
    "gpuClass": "standard",
    "kernelspec": {
      "display_name": "Python 3",
      "name": "python3"
    },
    "language_info": {
      "name": "python"
    },
    "widgets": {
      "application/vnd.jupyter.widget-state+json": {
        "74afe6b32b3a4332b5be0ef6858c4c25": {
          "model_module": "@jupyter-widgets/controls",
          "model_name": "HBoxModel",
          "model_module_version": "1.5.0",
          "state": {
            "_dom_classes": [],
            "_model_module": "@jupyter-widgets/controls",
            "_model_module_version": "1.5.0",
            "_model_name": "HBoxModel",
            "_view_count": null,
            "_view_module": "@jupyter-widgets/controls",
            "_view_module_version": "1.5.0",
            "_view_name": "HBoxView",
            "box_style": "",
            "children": [
              "IPY_MODEL_85caf3df6f6a4f38b9f745a093fc306f",
              "IPY_MODEL_382564da17a24e96a5e2202031fabbac",
              "IPY_MODEL_1a6dd0fc062f4124b69cf5875b77054a"
            ],
            "layout": "IPY_MODEL_84c8c1c1c0bc416c997f329995c12fd7"
          }
        },
        "85caf3df6f6a4f38b9f745a093fc306f": {
          "model_module": "@jupyter-widgets/controls",
          "model_name": "HTMLModel",
          "model_module_version": "1.5.0",
          "state": {
            "_dom_classes": [],
            "_model_module": "@jupyter-widgets/controls",
            "_model_module_version": "1.5.0",
            "_model_name": "HTMLModel",
            "_view_count": null,
            "_view_module": "@jupyter-widgets/controls",
            "_view_module_version": "1.5.0",
            "_view_name": "HTMLView",
            "description": "",
            "description_tooltip": null,
            "layout": "IPY_MODEL_bbb6bb3000024ba3b299b1f067016685",
            "placeholder": "​",
            "style": "IPY_MODEL_c2700084483c4c4d9995fbf4faa5a247",
            "value": "100%"
          }
        },
        "382564da17a24e96a5e2202031fabbac": {
          "model_module": "@jupyter-widgets/controls",
          "model_name": "FloatProgressModel",
          "model_module_version": "1.5.0",
          "state": {
            "_dom_classes": [],
            "_model_module": "@jupyter-widgets/controls",
            "_model_module_version": "1.5.0",
            "_model_name": "FloatProgressModel",
            "_view_count": null,
            "_view_module": "@jupyter-widgets/controls",
            "_view_module_version": "1.5.0",
            "_view_name": "ProgressView",
            "bar_style": "success",
            "description": "",
            "description_tooltip": null,
            "layout": "IPY_MODEL_b8bb2960d6bd48c0852fe450f23cf851",
            "max": 300,
            "min": 0,
            "orientation": "horizontal",
            "style": "IPY_MODEL_6c9dc724e47d4833a8dcfe22da20074c",
            "value": 300
          }
        },
        "1a6dd0fc062f4124b69cf5875b77054a": {
          "model_module": "@jupyter-widgets/controls",
          "model_name": "HTMLModel",
          "model_module_version": "1.5.0",
          "state": {
            "_dom_classes": [],
            "_model_module": "@jupyter-widgets/controls",
            "_model_module_version": "1.5.0",
            "_model_name": "HTMLModel",
            "_view_count": null,
            "_view_module": "@jupyter-widgets/controls",
            "_view_module_version": "1.5.0",
            "_view_name": "HTMLView",
            "description": "",
            "description_tooltip": null,
            "layout": "IPY_MODEL_857103cb55e54daca6ea5df50a3a0c1b",
            "placeholder": "​",
            "style": "IPY_MODEL_e4259f3bbbf943b79ea91cc6cf31ef72",
            "value": " 300/300 [00:00&lt;00:00, 432.06it/s]"
          }
        },
        "84c8c1c1c0bc416c997f329995c12fd7": {
          "model_module": "@jupyter-widgets/base",
          "model_name": "LayoutModel",
          "model_module_version": "1.2.0",
          "state": {
            "_model_module": "@jupyter-widgets/base",
            "_model_module_version": "1.2.0",
            "_model_name": "LayoutModel",
            "_view_count": null,
            "_view_module": "@jupyter-widgets/base",
            "_view_module_version": "1.2.0",
            "_view_name": "LayoutView",
            "align_content": null,
            "align_items": null,
            "align_self": null,
            "border": null,
            "bottom": null,
            "display": null,
            "flex": null,
            "flex_flow": null,
            "grid_area": null,
            "grid_auto_columns": null,
            "grid_auto_flow": null,
            "grid_auto_rows": null,
            "grid_column": null,
            "grid_gap": null,
            "grid_row": null,
            "grid_template_areas": null,
            "grid_template_columns": null,
            "grid_template_rows": null,
            "height": null,
            "justify_content": null,
            "justify_items": null,
            "left": null,
            "margin": null,
            "max_height": null,
            "max_width": null,
            "min_height": null,
            "min_width": null,
            "object_fit": null,
            "object_position": null,
            "order": null,
            "overflow": null,
            "overflow_x": null,
            "overflow_y": null,
            "padding": null,
            "right": null,
            "top": null,
            "visibility": null,
            "width": null
          }
        },
        "bbb6bb3000024ba3b299b1f067016685": {
          "model_module": "@jupyter-widgets/base",
          "model_name": "LayoutModel",
          "model_module_version": "1.2.0",
          "state": {
            "_model_module": "@jupyter-widgets/base",
            "_model_module_version": "1.2.0",
            "_model_name": "LayoutModel",
            "_view_count": null,
            "_view_module": "@jupyter-widgets/base",
            "_view_module_version": "1.2.0",
            "_view_name": "LayoutView",
            "align_content": null,
            "align_items": null,
            "align_self": null,
            "border": null,
            "bottom": null,
            "display": null,
            "flex": null,
            "flex_flow": null,
            "grid_area": null,
            "grid_auto_columns": null,
            "grid_auto_flow": null,
            "grid_auto_rows": null,
            "grid_column": null,
            "grid_gap": null,
            "grid_row": null,
            "grid_template_areas": null,
            "grid_template_columns": null,
            "grid_template_rows": null,
            "height": null,
            "justify_content": null,
            "justify_items": null,
            "left": null,
            "margin": null,
            "max_height": null,
            "max_width": null,
            "min_height": null,
            "min_width": null,
            "object_fit": null,
            "object_position": null,
            "order": null,
            "overflow": null,
            "overflow_x": null,
            "overflow_y": null,
            "padding": null,
            "right": null,
            "top": null,
            "visibility": null,
            "width": null
          }
        },
        "c2700084483c4c4d9995fbf4faa5a247": {
          "model_module": "@jupyter-widgets/controls",
          "model_name": "DescriptionStyleModel",
          "model_module_version": "1.5.0",
          "state": {
            "_model_module": "@jupyter-widgets/controls",
            "_model_module_version": "1.5.0",
            "_model_name": "DescriptionStyleModel",
            "_view_count": null,
            "_view_module": "@jupyter-widgets/base",
            "_view_module_version": "1.2.0",
            "_view_name": "StyleView",
            "description_width": ""
          }
        },
        "b8bb2960d6bd48c0852fe450f23cf851": {
          "model_module": "@jupyter-widgets/base",
          "model_name": "LayoutModel",
          "model_module_version": "1.2.0",
          "state": {
            "_model_module": "@jupyter-widgets/base",
            "_model_module_version": "1.2.0",
            "_model_name": "LayoutModel",
            "_view_count": null,
            "_view_module": "@jupyter-widgets/base",
            "_view_module_version": "1.2.0",
            "_view_name": "LayoutView",
            "align_content": null,
            "align_items": null,
            "align_self": null,
            "border": null,
            "bottom": null,
            "display": null,
            "flex": null,
            "flex_flow": null,
            "grid_area": null,
            "grid_auto_columns": null,
            "grid_auto_flow": null,
            "grid_auto_rows": null,
            "grid_column": null,
            "grid_gap": null,
            "grid_row": null,
            "grid_template_areas": null,
            "grid_template_columns": null,
            "grid_template_rows": null,
            "height": null,
            "justify_content": null,
            "justify_items": null,
            "left": null,
            "margin": null,
            "max_height": null,
            "max_width": null,
            "min_height": null,
            "min_width": null,
            "object_fit": null,
            "object_position": null,
            "order": null,
            "overflow": null,
            "overflow_x": null,
            "overflow_y": null,
            "padding": null,
            "right": null,
            "top": null,
            "visibility": null,
            "width": null
          }
        },
        "6c9dc724e47d4833a8dcfe22da20074c": {
          "model_module": "@jupyter-widgets/controls",
          "model_name": "ProgressStyleModel",
          "model_module_version": "1.5.0",
          "state": {
            "_model_module": "@jupyter-widgets/controls",
            "_model_module_version": "1.5.0",
            "_model_name": "ProgressStyleModel",
            "_view_count": null,
            "_view_module": "@jupyter-widgets/base",
            "_view_module_version": "1.2.0",
            "_view_name": "StyleView",
            "bar_color": null,
            "description_width": ""
          }
        },
        "857103cb55e54daca6ea5df50a3a0c1b": {
          "model_module": "@jupyter-widgets/base",
          "model_name": "LayoutModel",
          "model_module_version": "1.2.0",
          "state": {
            "_model_module": "@jupyter-widgets/base",
            "_model_module_version": "1.2.0",
            "_model_name": "LayoutModel",
            "_view_count": null,
            "_view_module": "@jupyter-widgets/base",
            "_view_module_version": "1.2.0",
            "_view_name": "LayoutView",
            "align_content": null,
            "align_items": null,
            "align_self": null,
            "border": null,
            "bottom": null,
            "display": null,
            "flex": null,
            "flex_flow": null,
            "grid_area": null,
            "grid_auto_columns": null,
            "grid_auto_flow": null,
            "grid_auto_rows": null,
            "grid_column": null,
            "grid_gap": null,
            "grid_row": null,
            "grid_template_areas": null,
            "grid_template_columns": null,
            "grid_template_rows": null,
            "height": null,
            "justify_content": null,
            "justify_items": null,
            "left": null,
            "margin": null,
            "max_height": null,
            "max_width": null,
            "min_height": null,
            "min_width": null,
            "object_fit": null,
            "object_position": null,
            "order": null,
            "overflow": null,
            "overflow_x": null,
            "overflow_y": null,
            "padding": null,
            "right": null,
            "top": null,
            "visibility": null,
            "width": null
          }
        },
        "e4259f3bbbf943b79ea91cc6cf31ef72": {
          "model_module": "@jupyter-widgets/controls",
          "model_name": "DescriptionStyleModel",
          "model_module_version": "1.5.0",
          "state": {
            "_model_module": "@jupyter-widgets/controls",
            "_model_module_version": "1.5.0",
            "_model_name": "DescriptionStyleModel",
            "_view_count": null,
            "_view_module": "@jupyter-widgets/base",
            "_view_module_version": "1.2.0",
            "_view_name": "StyleView",
            "description_width": ""
          }
        }
      }
    }
  },
  "nbformat": 4,
  "nbformat_minor": 0
}